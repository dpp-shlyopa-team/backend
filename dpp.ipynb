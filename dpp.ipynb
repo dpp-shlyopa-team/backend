{
  "nbformat": 4,
  "nbformat_minor": 0,
  "metadata": {
    "colab": {
      "name": "dpp.ipynb",
      "provenance": [],
      "collapsed_sections": []
    },
    "kernelspec": {
      "name": "python3",
      "display_name": "Python 3"
    },
    "language_info": {
      "name": "python"
    }
  },
  "cells": [
    {
      "cell_type": "code",
      "execution_count": 1,
      "metadata": {
        "id": "cXjXvTAi7CjC"
      },
      "outputs": [],
      "source": [
        "!wget -q -O archive_5.zip \"https://drive.google.com/uc?export=download&confirm=no_antivirus&id=1BPKo4THVA1fIC27QoMwBoddZ4mA5vTzG\"\n",
        "!unzip -q archive_5.zip"
      ]
    },
    {
      "cell_type": "code",
      "source": [
        ""
      ],
      "metadata": {
        "id": "wnKtWZZXIFiR"
      },
      "execution_count": null,
      "outputs": []
    }
  ]
}